{
 "cells": [
  {
   "cell_type": "markdown",
   "metadata": {},
   "source": [
    "### This test requires only Python. **No libraries allowed**"
   ]
  },
  {
   "cell_type": "markdown",
   "metadata": {},
   "source": [
    "#### **Lists**"
   ]
  },
  {
   "cell_type": "code",
   "execution_count": null,
   "metadata": {},
   "outputs": [],
   "source": [
    "# 1. With a list mylist=[1,5,2,7,3], sort it in ascending order\n",
    "mylist = [1,5,2,7,3]\n",
    "mylist.sort()\n",
    "mylist"
   ]
  },
  {
   "cell_type": "code",
   "execution_count": null,
   "metadata": {},
   "outputs": [],
   "source": [
    "# 2. With a list mylist=[1,5,2,7,3], insert the number 4 between 5 and 2\n",
    "mylist=[1,5,2,7,3]\n",
    "mylist.insert(2,4)\n",
    "mylist\n"
   ]
  },
  {
   "cell_type": "code",
   "execution_count": null,
   "metadata": {},
   "outputs": [],
   "source": [
    "# 3. With a list mylist=[1,5,2,7,3], delete the number 7\n",
    "mylist=[1,5,2,7,3]\n",
    "mylist.remove(7)\n",
    "mylist"
   ]
  },
  {
   "cell_type": "code",
   "execution_count": null,
   "metadata": {},
   "outputs": [],
   "source": [
    "# 4. With a list mylist=[1,5,2,7,3], remove the last element\n",
    "mylist=[1,5,2,7,3]\n",
    "mylist.pop()\n",
    "mylist"
   ]
  },
  {
   "cell_type": "code",
   "execution_count": null,
   "metadata": {},
   "outputs": [],
   "source": [
    "# 5. Print out all the elements and indexes of mylist=[1,5,2,7,3]\n",
    "mylist=[1,5,2,7,3]\n",
    "for i, element in enumerate(mylist):\n",
    "    print(f'Element: {element}, index: {i}') "
   ]
  },
  {
   "cell_type": "code",
   "execution_count": null,
   "metadata": {},
   "outputs": [],
   "source": [
    "# 6. Slice the list mylist=[1,5,2,7,3] to show values only in even indexes\n",
    "mylist=[1,5,2,7,3]\n",
    "mylist[::2]"
   ]
  },
  {
   "cell_type": "code",
   "execution_count": null,
   "metadata": {},
   "outputs": [],
   "source": [
    "# 7. Slice the list mylist=[1,5,2,7,3] to reverse the list\n",
    "mylist=[1,5,2,7,3]\n",
    "mylist[::-1]"
   ]
  },
  {
   "cell_type": "code",
   "execution_count": null,
   "metadata": {},
   "outputs": [],
   "source": [
    "# 8. Slice the list mylist=[1,5,2,7,3] to show values only in odd indexes\n",
    "mylist=[1,5,2,7,3]\n",
    "mylist[1::2]"
   ]
  },
  {
   "cell_type": "code",
   "execution_count": null,
   "metadata": {},
   "outputs": [],
   "source": [
    "# 9. For the list mylist=[2,1,5,2,7,5,2] extract the unique values as a list\n",
    "mylist=[2,1,5,2,7,5,2]\n",
    "list(set(mylist))"
   ]
  },
  {
   "cell_type": "code",
   "execution_count": null,
   "metadata": {},
   "outputs": [],
   "source": [
    "# 10. For the list mylist=[[2,3],[1,2]] extract the second element\n",
    "# of the first list\n",
    "mylist=[[2,3],[1,2]]\n",
    "mylist[0][1]"
   ]
  },
  {
   "cell_type": "code",
   "execution_count": null,
   "metadata": {},
   "outputs": [],
   "source": [
    "# 11. For the list mylist=[[2,3],[1,2]] reverse the list by row\n",
    "mylist=[[2,3],[1,2]]\n",
    "mylist[::-1]"
   ]
  },
  {
   "cell_type": "markdown",
   "metadata": {},
   "source": [
    "#### **Dictionaries**"
   ]
  },
  {
   "cell_type": "code",
   "execution_count": 17,
   "metadata": {},
   "outputs": [
    {
     "data": {
      "text/plain": [
       "{'a': 2, 'b': 5, 'c': 6}"
      ]
     },
     "execution_count": 17,
     "metadata": {},
     "output_type": "execute_result"
    }
   ],
   "source": [
    "# 1. For this list of tuples mylist = [('a',2),('b',5),('c',6)] \n",
    "# create a dictionary my dict and show it\n",
    "mylist = [('a',2),('b',5),('c',6)] \n",
    "my_dict = dict(mylist)\n",
    "my_dict"
   ]
  },
  {
   "cell_type": "code",
   "execution_count": 18,
   "metadata": {},
   "outputs": [
    {
     "name": "stdout",
     "output_type": "stream",
     "text": [
      "5\n"
     ]
    }
   ],
   "source": [
    "# 2. Fot the previous list, show the value for key 'b'\n",
    "print(my_dict['b'])\n"
   ]
  },
  {
   "cell_type": "code",
   "execution_count": 19,
   "metadata": {},
   "outputs": [
    {
     "name": "stdout",
     "output_type": "stream",
     "text": [
      "None\n"
     ]
    }
   ],
   "source": [
    "# 3. For the previus list, show the value for key 'f'\n",
    "print(my_dict.get('f'))\n"
   ]
  },
  {
   "cell_type": "code",
   "execution_count": 20,
   "metadata": {},
   "outputs": [
    {
     "data": {
      "text/plain": [
       "{'a': 2, 'b': 5, 'c': 6}"
      ]
     },
     "execution_count": 20,
     "metadata": {},
     "output_type": "execute_result"
    }
   ],
   "source": [
    "# 4. For the previous dictionary, print all the keys and values\n",
    "my_dict"
   ]
  },
  {
   "cell_type": "code",
   "execution_count": 21,
   "metadata": {},
   "outputs": [
    {
     "data": {
      "text/plain": [
       "3"
      ]
     },
     "execution_count": 21,
     "metadata": {},
     "output_type": "execute_result"
    }
   ],
   "source": [
    "# 5. Print the quantity of keys of previous dictionary\n",
    "num_keys = len(my_dict)\n",
    "num_keys"
   ]
  },
  {
   "cell_type": "code",
   "execution_count": 22,
   "metadata": {},
   "outputs": [
    {
     "data": {
      "text/plain": [
       "{'a': 2, 'b': 5, 'c': 6, 'd': 0}"
      ]
     },
     "execution_count": 22,
     "metadata": {},
     "output_type": "execute_result"
    }
   ],
   "source": [
    "\n",
    "# 6. Add a new key 'd' and its value 0 to the previous dictionary. Print it\n",
    "my_dict['d'] = 0\n",
    "my_dict"
   ]
  },
  {
   "cell_type": "code",
   "execution_count": 23,
   "metadata": {},
   "outputs": [
    {
     "name": "stdout",
     "output_type": "stream",
     "text": [
      "{'d': 0, 'a': 2, 'b': 5, 'c': 6}\n"
     ]
    }
   ],
   "source": [
    "# 7. Sort the previous dictionary by value\n",
    "sorted_dict = dict(sorted(my_dict.items(), key=lambda item: item[1]))\n",
    "print(sorted_dict)"
   ]
  },
  {
   "cell_type": "code",
   "execution_count": 24,
   "metadata": {},
   "outputs": [
    {
     "data": {
      "text/plain": [
       "{'d': 0, 'c': 6, 'b': 5, 'a': 2}"
      ]
     },
     "execution_count": 24,
     "metadata": {},
     "output_type": "execute_result"
    }
   ],
   "source": [
    "# 8. Sort the previous dictionary by key, in descending order\n",
    "sorted_dict = dict(sorted(my_dict.items(), key=lambda item: item[0], reverse=True))\n",
    "sorted_dict"
   ]
  },
  {
   "cell_type": "code",
   "execution_count": 25,
   "metadata": {},
   "outputs": [
    {
     "data": {
      "text/plain": [
       "{'a': 2, 'b': 5, 'd': 0}"
      ]
     },
     "execution_count": 25,
     "metadata": {},
     "output_type": "execute_result"
    }
   ],
   "source": [
    "# 9. Delete the key 'c' from previous dictionary\n",
    "del my_dict['c']\n",
    "my_dict\n"
   ]
  },
  {
   "cell_type": "code",
   "execution_count": 26,
   "metadata": {},
   "outputs": [
    {
     "data": {
      "text/plain": [
       "{'a': 2, 'b': 5, 'd': 1}"
      ]
     },
     "execution_count": 26,
     "metadata": {},
     "output_type": "execute_result"
    }
   ],
   "source": [
    "# 10. Change the value of key d to 1 from previous dictionary\n",
    "my_dict['d'] = 1\n",
    "my_dict"
   ]
  },
  {
   "cell_type": "code",
   "execution_count": 27,
   "metadata": {},
   "outputs": [
    {
     "data": {
      "text/plain": [
       "{'b': 5, 'd': 1}"
      ]
     },
     "execution_count": 27,
     "metadata": {},
     "output_type": "execute_result"
    }
   ],
   "source": [
    "# 11. Create a new dict mydict_b with all values of mydict without key a\n",
    "mydict_b = {k: v for k, v in my_dict.items() if k != 'a'}\n",
    "mydict_b"
   ]
  }
 ],
 "metadata": {
  "kernelspec": {
   "display_name": ".venv",
   "language": "python",
   "name": "python3"
  },
  "language_info": {
   "codemirror_mode": {
    "name": "ipython",
    "version": 3
   },
   "file_extension": ".py",
   "mimetype": "text/x-python",
   "name": "python",
   "nbconvert_exporter": "python",
   "pygments_lexer": "ipython3",
   "version": "3.12.1"
  }
 },
 "nbformat": 4,
 "nbformat_minor": 2
}
